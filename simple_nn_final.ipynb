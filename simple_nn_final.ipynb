{
  "nbformat": 4,
  "nbformat_minor": 0,
  "metadata": {
    "colab": {
      "name": "Elizarov_simple_nn.ipynb",
      "provenance": [],
      "collapsed_sections": []
    },
    "kernelspec": {
      "name": "python3",
      "display_name": "Python 3"
    }
  },
  "cells": [
    {
      "cell_type": "code",
      "metadata": {
        "id": "-URPk0D0HxJi"
      },
      "source": [
        "import keras\n",
        "import matplotlib.pyplot as plt\n",
        "import numpy as np\n",
        "\n",
        "from sklearn.metrics import accuracy_score"
      ],
      "execution_count": null,
      "outputs": []
    },
    {
      "cell_type": "markdown",
      "metadata": {
        "id": "cB2MGQGCMNkI"
      },
      "source": [
        "Я не очень понял, в чём конкретно состоит первое задание. Поэтому сначала я сделал отдельный класс на один полносвязный слой. \n"
      ]
    },
    {
      "cell_type": "code",
      "metadata": {
        "id": "eHTLf0EeH9Ui"
      },
      "source": [
        "def simple_SoftMAX(x):\n",
        "    exps = np.exp(x)\n",
        "    norm = np.sum(exps, axis = 1, keepdims = True)\n",
        "    probs = exps / norm\n",
        "    \n",
        "    return probs\n",
        "\n",
        "def Normalize(X):\n",
        "    X_sum = X.sum(axis = 1, keepdims = True)\n",
        "    print(X_sum.shape)\n",
        "    X = X /X_sum\n",
        "    \n",
        "    return X\n",
        "\n",
        "class very_simple_nn():\n",
        "    def __init__(self, in_ftr, out_ftr):\n",
        "        self.in_ftr = in_ftr\n",
        "        self.out_ftr = out_ftr\n",
        "        self.weights = np.random.rand(self.in_ftr, self.out_ftr) * 0.01\n",
        "        \n",
        "        self.constant = np.zeros(out_ftr).reshape((1, out_ftr))\n",
        "        \n",
        "    \n",
        "    def train(self, X, Y, step = 0.1, epochs=10, shuffle=False, batch_size=1000):\n",
        "        X_copy = np.copy(X)\n",
        "        Y_copy = np.copy(Y)\n",
        "        \n",
        "        if shuffle:\n",
        "            perm = np.random.permutation(X.shape[0])\n",
        "            X_perm = X_copy[perm]\n",
        "            Y_perm = Y_copy[perm]\n",
        "        else:\n",
        "            X_perm = X_copy\n",
        "            Y_perm = Y_copy\n",
        "            \n",
        "        for epoch_num in range(epochs):\n",
        "            bs = batch_size\n",
        "            for bs_index in range((len(X_perm) + bs - 1) // bs):\n",
        "                X_batch = X_perm[bs_index * bs: bs_index * bs + bs]\n",
        "                Y_batch = Y_perm[bs_index * bs: bs_index * bs + bs]\n",
        "                    \n",
        "                res_nn = X_batch @ self.weights + self.constant  #forward\n",
        "                res_sm = simple_SoftMAX(res_nn)                  #forward \n",
        "            \n",
        "                grad_sm = np.copy(res_sm)                        #backward\n",
        "                grad_sm[np.arange(res_nn.shape[0]), Y_batch] -= 1#backward\n",
        "                grad_sm = grad_sm / res_nn.shape[0]              #backward\n",
        "                \n",
        "                d_weights = np.transpose(X_batch) @ grad_sm      \n",
        "                d_constant = np.sum(grad_sm, axis = 0)\n",
        "                \n",
        "                self.weights = self.weights - step * d_weights   #update\n",
        "                self.constant = self.constant - step * d_constant#update\n",
        "                \n",
        "    def predict(self, X_test):\n",
        "        res_nn = X_test @ self.weights + self.constant\n",
        "        res_sm = simple_SoftMAX(res_nn)\n",
        "        return np.argmax(res_sm, axis = 1)"
      ],
      "execution_count": null,
      "outputs": []
    },
    {
      "cell_type": "code",
      "metadata": {
        "id": "BevWDEVtM3YM"
      },
      "source": [
        "(X_train, Y_train), (X_test, Y_test) = keras.datasets.mnist.load_data()\n",
        "X_train = X_train.reshape((60000, 28 * 28))\n",
        "X_test = X_test.reshape((10000, 28 * 28))"
      ],
      "execution_count": null,
      "outputs": []
    },
    {
      "cell_type": "code",
      "metadata": {
        "colab": {
          "base_uri": "https://localhost:8080/"
        },
        "id": "cprBXKkvM9JS",
        "outputId": "5986c0ef-d33c-4b9d-9061-2888e21eee81"
      },
      "source": [
        "X_train = Normalize(X_train)\n",
        "X_test = Normalize(X_test)"
      ],
      "execution_count": null,
      "outputs": [
        {
          "output_type": "stream",
          "text": [
            "(60000, 1)\n",
            "(10000, 1)\n"
          ],
          "name": "stdout"
        }
      ]
    },
    {
      "cell_type": "code",
      "metadata": {
        "id": "2bjlBfcbNBLK"
      },
      "source": [
        "Test = very_simple_nn(28 * 28, 10)"
      ],
      "execution_count": null,
      "outputs": []
    },
    {
      "cell_type": "markdown",
      "metadata": {
        "id": "OBgTdzDvGSz0"
      },
      "source": [
        "Здесь я просто показал, что оно работает. Основная сеть в несколько слоёв написана ниже."
      ]
    },
    {
      "cell_type": "code",
      "metadata": {
        "id": "zjVXBND-ND6t"
      },
      "source": [
        "Test.train(X_train, Y_train, step = 1, batch_size = 10000, epochs = 100, shuffle = True)"
      ],
      "execution_count": null,
      "outputs": []
    },
    {
      "cell_type": "code",
      "metadata": {
        "colab": {
          "base_uri": "https://localhost:8080/"
        },
        "id": "ZDM5xRAGNJQJ",
        "outputId": "0baf79b9-e705-4c24-93b3-c4623de2480c"
      },
      "source": [
        "acc = np.mean(Test.predict(X_test) == Y_test)\n",
        "print(acc)"
      ],
      "execution_count": null,
      "outputs": [
        {
          "output_type": "stream",
          "text": [
            "0.3239\n"
          ],
          "name": "stdout"
        }
      ]
    },
    {
      "cell_type": "markdown",
      "metadata": {
        "id": "Kq27kBf0osI0"
      },
      "source": [
        "Но на этой сети больше 0.9215 получить не удалось, поэтому я написал несколько слоёв:"
      ]
    },
    {
      "cell_type": "code",
      "metadata": {
        "id": "JC3rGOXoNXAu"
      },
      "source": [
        "class slay_component():\n",
        "    def forward(self, x):\n",
        "        raise NotImplementedError()\n",
        "    \n",
        "    def backward(self, x):\n",
        "        raise NotImplementedError()\n",
        "    \n",
        "    def upgrade():\n",
        "        pass\n",
        "\n",
        "\n",
        "class simple_nn(slay_component):\n",
        "    def __init__(self, in_ftr, out_ftr):\n",
        "        self.in_ftr = in_ftr\n",
        "        self.out_ftr = out_ftr\n",
        "        self.weights = np.random.rand(self.in_ftr, self.out_ftr) * 0.01\n",
        "        self.constants = np.zeros(self.out_ftr)\n",
        "        self.x = None\n",
        "        self.d_weights = None\n",
        "        self.d_const = None\n",
        "        \n",
        "    def forward(self, x):\n",
        "        self.x = np.copy(x)\n",
        "        #print('nn')\n",
        "        return self.x @ self.weights + self.constants\n",
        "    \n",
        "    def backward(self, local_gr):\n",
        "        #print(self.x.shape)\n",
        "        #print(local_gr.shape)\n",
        "        #print(self.x)\n",
        "        self.d_weights = np.transpose(self.x) @ local_gr\n",
        "        self.d_const = np.sum(local_gr, axis = 0)\n",
        "        return (local_gr @ np.transpose(self.weights))\n",
        "    \n",
        "    def update(self, step):\n",
        "        #print(self.d_weights)\n",
        "        self.weights = self.weights - step * self.d_weights\n",
        "        self.constants = self.constants - step * self.d_const\n",
        "        #print(self.weights.sum())\n",
        "        \n",
        "        \n",
        "class ReLU(slay_component):\n",
        "    def __init__(self):\n",
        "        self.x = None\n",
        "        \n",
        "    def forward(self, x):\n",
        "        #print('ReLU')\n",
        "        self.x = np.copy(x)\n",
        "        return np.maximum(0, self.x)\n",
        "    \n",
        "    def backward(self, local_gr):\n",
        "        d_ReLU = self.x > 0\n",
        "        return local_gr * d_ReLU\n",
        "    \n",
        "class SeLU(slay_component):\n",
        "    def __init__(self):\n",
        "        self.x = None\n",
        "        self.lambda_0 = 1.0507\n",
        "        self.alpha = 1.67327\n",
        "        \n",
        "    def forward(self, x):\n",
        "        self.x = np.copy(x)\n",
        "        return np.maximum(0, self.x) + np.minimum(self.lambda_0 * self.alpha * (np.exp(self.x) - 1), 0)\n",
        "    \n",
        "    def backward(self, local_gr):\n",
        "        d_SeLU_pos = self.x > 0\n",
        "        d_SeLU_neg = self.x <= 0\n",
        "        d_SeLU = d_SeLU_pos * self.lambda_0 + d_SeLU_neg * self.lambda_0 * self.alpha * np.exp(self.x)\n",
        "        return local_gr * d_SeLU\n",
        "    \n",
        "class SoftMAX(slay_component):\n",
        "    def __init__(self):\n",
        "        self.x = None\n",
        "        self.probs = None\n",
        "        \n",
        "    def forward(self, x):\n",
        "        #print('Softmax')\n",
        "        self.x = np.copy(x)\n",
        "        exps = np.exp(self.x)\n",
        "        norm = np.sum(np.copy(exps), axis = 1, keepdims = True)\n",
        "        self.probs = exps / norm\n",
        "        return self.probs\n",
        "    \n",
        "    def backward(self, q):\n",
        "        grad = np.copy(self.probs)\n",
        "        grad[np.arange(self.x.shape[0]), q] -= 1 #возвращает градиент уже после применения кросс-энтропии\n",
        "        return grad / self.x.shape[0]"
      ],
      "execution_count": null,
      "outputs": []
    },
    {
      "cell_type": "markdown",
      "metadata": {
        "id": "nQq_S3rKGfWK"
      },
      "source": [
        "Кроме стандартного ReLU, я написал SELU, так как читал, что при них картинки учатся лучше."
      ]
    },
    {
      "cell_type": "code",
      "metadata": {
        "id": "YYkaWeosRnUk"
      },
      "source": [
        "class MNIST_Classifier:\n",
        "    def __init__(self, slays, step = 0.01, epochs = 50, batch_size = 100,  shuffle = False):\n",
        "        self.slay_components = slays + [SoftMAX()]\n",
        "        self.step = step\n",
        "        self.batch_size = batch_size\n",
        "        self.epochs = epochs\n",
        "        self.is_shuffle = shuffle\n",
        "        \n",
        "    def forward(self, X):\n",
        "        res = X\n",
        "        for comp in self.slay_components:\n",
        "            #print(comp)\n",
        "            #print(len(res.shape))\n",
        "            #print(res.shape)\n",
        "            res = comp.forward(res)\n",
        "        return res\n",
        "    \n",
        "    def backward(self, grad):\n",
        "        res = grad\n",
        "        for inv, comp in enumerate(reversed(self.slay_components)):\n",
        "            #print(grad)\n",
        "            res = comp.backward(res)\n",
        "    \n",
        "    def update(self):\n",
        "        for comp in self.slay_components:\n",
        "            if isinstance(comp, simple_nn):\n",
        "                #print('I am here')\n",
        "                comp.update(self.step)\n",
        "    \n",
        "    def train(self, X, Y):\n",
        "        if self.is_shuffle:\n",
        "            perm = np.random.permutation(X.shape[0])\n",
        "            X_perm = X[perm]\n",
        "            Y_perm = Y[perm]\n",
        "        else:\n",
        "            X_perm = X\n",
        "            Y_perm = Y\n",
        "            \n",
        "        for epoch_num in range(self.epochs):\n",
        "            local_batch_size = self.batch_size\n",
        "            for batch_index in range((len(X_perm) + local_batch_size - 1) // local_batch_size):\n",
        "                batch_X = X_perm[batch_index * local_batch_size:batch_index * local_batch_size + local_batch_size]\n",
        "                batch_Y = Y_perm[batch_index * local_batch_size:batch_index * local_batch_size + local_batch_size]\n",
        "                \n",
        "                self.forward(batch_X)\n",
        "                self.backward(batch_Y)\n",
        "                self.update()\n",
        "                \n",
        "    def predict(self, X):\n",
        "        res = X\n",
        "        for comp_index in range(len(self.slay_components)):\n",
        "            res = self.slay_components[comp_index].forward(res)\n",
        "            \n",
        "        return np.argmax(res, axis = 1)"
      ],
      "execution_count": null,
      "outputs": []
    },
    {
      "cell_type": "code",
      "metadata": {
        "id": "3Qc9p0ibRzXl"
      },
      "source": [
        "(X_train, Y_train), (X_test, Y_test) = keras.datasets.mnist.load_data()\n",
        "X_train = X_train.reshape((60000, 28 * 28))\n",
        "X_test = X_test.reshape((10000, 28 * 28))"
      ],
      "execution_count": null,
      "outputs": []
    },
    {
      "cell_type": "code",
      "metadata": {
        "colab": {
          "base_uri": "https://localhost:8080/"
        },
        "id": "l_maMFCKR7fi",
        "outputId": "c83e2e51-7593-46b9-b00a-096c321b716b"
      },
      "source": [
        "X_train = Normalize(X_train)\n",
        "X_test = Normalize(X_test)"
      ],
      "execution_count": null,
      "outputs": [
        {
          "output_type": "stream",
          "text": [
            "(60000, 1)\n",
            "(10000, 1)\n"
          ],
          "name": "stdout"
        }
      ]
    },
    {
      "cell_type": "code",
      "metadata": {
        "id": "iSnRu6RsR7_F"
      },
      "source": [
        "Test = MNIST_Classifier([\n",
        "    simple_nn(28*28, 256),\n",
        "    SeLU(),\n",
        "    simple_nn(256, 128),\n",
        "    SeLU(),\n",
        "    simple_nn(128, 10)\n",
        "    ], epochs = 10, step = 0.1, shuffle=False)"
      ],
      "execution_count": null,
      "outputs": []
    },
    {
      "cell_type": "markdown",
      "metadata": {
        "id": "N_Juw4a_Gxke"
      },
      "source": [
        "Я сделал всего 300 эпох. Но этого должно хватить.\n"
      ]
    },
    {
      "cell_type": "code",
      "metadata": {
        "colab": {
          "base_uri": "https://localhost:8080/"
        },
        "id": "Qd5JO4gySTGt",
        "outputId": "07d97594-0dcb-4943-92a7-7c31a2d8c9d8"
      },
      "source": [
        "Test.epochs = 10\n",
        "for i in range(30):\n",
        "    Test.train(X_train, Y_train)\n",
        "    acc = np.mean(Test.predict(X_test) == Y_test)\n",
        "    print(\"Epoch number \", i * 10 + 10, \"  Accuracy: \", acc)"
      ],
      "execution_count": null,
      "outputs": [
        {
          "output_type": "stream",
          "text": [
            "Epoch number  10   Accuracy:  0.1135\n",
            "Epoch number  20   Accuracy:  0.2521\n",
            "Epoch number  30   Accuracy:  0.4822\n",
            "Epoch number  40   Accuracy:  0.7221\n",
            "Epoch number  50   Accuracy:  0.8133\n",
            "Epoch number  60   Accuracy:  0.842\n",
            "Epoch number  70   Accuracy:  0.8748\n",
            "Epoch number  80   Accuracy:  0.8975\n",
            "Epoch number  90   Accuracy:  0.9036\n",
            "Epoch number  100   Accuracy:  0.9119\n",
            "Epoch number  110   Accuracy:  0.9159\n",
            "Epoch number  120   Accuracy:  0.9206\n",
            "Epoch number  130   Accuracy:  0.9242\n",
            "Epoch number  140   Accuracy:  0.9282\n",
            "Epoch number  150   Accuracy:  0.9306\n",
            "Epoch number  160   Accuracy:  0.9332\n",
            "Epoch number  170   Accuracy:  0.9368\n",
            "Epoch number  180   Accuracy:  0.9394\n",
            "Epoch number  190   Accuracy:  0.9425\n",
            "Epoch number  200   Accuracy:  0.9458\n",
            "Epoch number  210   Accuracy:  0.9476\n",
            "Epoch number  220   Accuracy:  0.9497\n",
            "Epoch number  230   Accuracy:  0.9508\n",
            "Epoch number  240   Accuracy:  0.9511\n",
            "Epoch number  250   Accuracy:  0.9518\n",
            "Epoch number  260   Accuracy:  0.9515\n",
            "Epoch number  270   Accuracy:  0.9524\n",
            "Epoch number  280   Accuracy:  0.9532\n",
            "Epoch number  290   Accuracy:  0.954\n",
            "Epoch number  300   Accuracy:  0.9551\n"
          ],
          "name": "stdout"
        }
      ]
    },
    {
      "cell_type": "code",
      "metadata": {
        "colab": {
          "base_uri": "https://localhost:8080/"
        },
        "id": "4Gm9YMc1OwmB",
        "outputId": "551c9701-95dc-49b9-916c-c42f04a08821"
      },
      "source": [
        "(X_train, Y_train), (X_test, Y_test) = keras.datasets.mnist.load_data()\n",
        "X_test_img = np.copy(X_test)\n",
        "X_train = X_train.reshape((60000, 28 * 28))\n",
        "X_test = X_test.reshape((10000, 28 * 28))\n",
        "X_test = Normalize(X_test)\n",
        "X_test_img.shape\n"
      ],
      "execution_count": null,
      "outputs": [
        {
          "output_type": "stream",
          "text": [
            "(10000, 1)\n"
          ],
          "name": "stdout"
        },
        {
          "output_type": "execute_result",
          "data": {
            "text/plain": [
              "(10000, 28, 28)"
            ]
          },
          "metadata": {
            "tags": []
          },
          "execution_count": 49
        }
      ]
    },
    {
      "cell_type": "code",
      "metadata": {
        "colab": {
          "base_uri": "https://localhost:8080/",
          "height": 585
        },
        "id": "15EztmrXOcSE",
        "outputId": "480f4a0e-d575-4c1e-ab4b-c692bf48d439"
      },
      "source": [
        "rows = 4\n",
        "cols = 4\n",
        "axes=[]\n",
        "\n",
        "nums = np.random.randint(0, X_test.shape[0], rows*cols)\n",
        "imgs = X_test_img[nums]\n",
        "imgs_to_predict = X_test[nums]\n",
        "labels = Y_test[nums]\n",
        "predicts = Test.predict(imgs_to_predict)\n",
        "fig=plt.figure(figsize = [8, 8])\n",
        "\n",
        "for i in range(rows*cols):\n",
        "    axes.append(fig.add_subplot(rows, cols, i+1))\n",
        "    subplot_title=(\"Real: {}, Predict: {}\".format(labels[i], predicts[i]))\n",
        "    axes[-1].set_title(subplot_title)  \n",
        "    plt.imshow(imgs[i])\n",
        "fig.tight_layout()    \n",
        "plt.show()"
      ],
      "execution_count": null,
      "outputs": [
        {
          "output_type": "display_data",
          "data": {
            "image/png": "[encoded data removed]",
            "text/plain": [
              "<Figure size 576x576 with 16 Axes>"
            ]
          },
          "metadata": {
            "tags": [],
            "needs_background": "light"
          }
        }
      ]
    },
    {
      "cell_type": "markdown",
      "metadata": {
        "id": "rz0XfRG2Sj_2"
      },
      "source": [
        "Нарисуем еще вот такую табличку, чтобы посмотреть, где мы ошибаемся."
      ]
    },
    {
      "cell_type": "code",
      "metadata": {
        "id": "w_wVR1hLOk2s"
      },
      "source": [
        "difference = [Test.predict(X_test) != Y_test]"
      ],
      "execution_count": null,
      "outputs": []
    },
    {
      "cell_type": "code",
      "metadata": {
        "colab": {
          "base_uri": "https://localhost:8080/",
          "height": 709
        },
        "id": "l7Af_sa0Q6Bs",
        "outputId": "6bda018d-0b91-43f7-e2ee-7e4df51db1d6"
      },
      "source": [
        "X_test_difference = np.copy(X_test)\n",
        "X_test_difference = X_test_difference[difference]\n",
        "X_test_img_dif = np.copy(X_test_img)\n",
        "X_test_img_dif = X_test_img_dif[difference]\n",
        "Y_test_difference = np.copy(Y_test)\n",
        "Y_test_difference = Y_test_difference[difference]\n",
        "\n",
        "nums = np.random.randint(0, X_test_difference.shape[0], rows*cols)\n",
        "imgs = X_test_img_dif[nums]\n",
        "imgs_to_predict = X_test_difference[nums]\n",
        "labels = Y_test_difference[nums]\n",
        "predicts = Test.predict(imgs_to_predict)\n",
        "fig=plt.figure(figsize = [8, 8])\n",
        "\n",
        "for i in range(rows*cols):\n",
        "    axes.append(fig.add_subplot(rows, cols, i+1))\n",
        "    subplot_title=(\"Real: {}, Predict: {}\".format(labels[i], predicts[i]))\n",
        "    axes[-1].set_title(subplot_title)  \n",
        "    plt.imshow(imgs[i])\n",
        "fig.tight_layout()    \n",
        "plt.show()"
      ],
      "execution_count": null,
      "outputs": [
        {
          "output_type": "stream",
          "text": [
            "/usr/local/lib/python3.6/dist-packages/ipykernel_launcher.py:2: FutureWarning: Using a non-tuple sequence for multidimensional indexing is deprecated; use `arr[tuple(seq)]` instead of `arr[seq]`. In the future this will be interpreted as an array index, `arr[np.array(seq)]`, which will result either in an error or a different result.\n",
            "  \n",
            "/usr/local/lib/python3.6/dist-packages/ipykernel_launcher.py:4: FutureWarning: Using a non-tuple sequence for multidimensional indexing is deprecated; use `arr[tuple(seq)]` instead of `arr[seq]`. In the future this will be interpreted as an array index, `arr[np.array(seq)]`, which will result either in an error or a different result.\n",
            "  after removing the cwd from sys.path.\n",
            "/usr/local/lib/python3.6/dist-packages/ipykernel_launcher.py:6: FutureWarning: Using a non-tuple sequence for multidimensional indexing is deprecated; use `arr[tuple(seq)]` instead of `arr[seq]`. In the future this will be interpreted as an array index, `arr[np.array(seq)]`, which will result either in an error or a different result.\n",
            "  \n"
          ],
          "name": "stderr"
        },
        {
          "output_type": "display_data",
          "data": {
            "image/png": "[encoded data removed]",
            "text/plain": [
              "<Figure size 576x576 with 16 Axes>"
            ]
          },
          "metadata": {
            "tags": [],
            "needs_background": "light"
          }
        }
      ]
    },
    {
      "cell_type": "code",
      "metadata": {
        "id": "fvOC0VC0RCmn"
      },
      "source": [
        ""
      ],
      "execution_count": null,
      "outputs": []
    }
  ]
}