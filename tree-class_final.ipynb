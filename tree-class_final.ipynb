{
 "cells": [
  {
   "cell_type": "code",
   "execution_count": 1,
   "metadata": {
    "_cell_guid": "b1076dfc-b9ad-4769-8c92-a6c4dae69d19",
    "_uuid": "8f2839f25d086af736a60e9eeb907d3b93b6e0e5",
    "execution": {
     "iopub.execute_input": "2020-11-16T21:08:45.697720Z",
     "iopub.status.busy": "2020-11-16T21:08:45.696403Z",
     "iopub.status.idle": "2020-11-16T21:08:45.705741Z",
     "shell.execute_reply": "2020-11-16T21:08:45.704555Z"
    },
    "papermill": {
     "duration": 0.037509,
     "end_time": "2020-11-16T21:08:45.705988",
     "exception": false,
     "start_time": "2020-11-16T21:08:45.668479",
     "status": "completed"
    },
    "tags": []
   },
   "outputs": [
    {
     "name": "stdout",
     "output_type": "stream",
     "text": [
      "/kaggle/input/mkn-ml-2020-competition-1-true-part-2/comp2_train.csv\n",
      "/kaggle/input/mkn-ml-2020-competition-1-true-part-2/comp2_sample.csv\n",
      "/kaggle/input/mkn-ml-2020-competition-1-true-part-2/comp2_test.csv\n"
     ]
    }
   ],
   "source": [
    "# This Python 3 environment comes with many helpful analytics libraries installed\n",
    "# It is defined by the kaggle/python Docker image: https://github.com/kaggle/docker-python\n",
    "# For example, here's several helpful packages to load\n",
    "\n",
    "import numpy as np # linear algebra\n",
    "import pandas as pd # data processing, CSV file I/O (e.g. pd.read_csv)\n",
    "\n",
    "# Input data files are available in the read-only \"../input/\" directory\n",
    "# For example, running this (by clicking run or pressing Shift+Enter) will list all files under the input directory\n",
    "\n",
    "import os\n",
    "for dirname, _, filenames in os.walk('/kaggle/input'):\n",
    "    for filename in filenames:\n",
    "        print(os.path.join(dirname, filename))\n",
    "\n",
    "# You can write up to 20GB to the current directory (/kaggle/working/) that gets preserved as output when you create a version using \"Save & Run All\" \n",
    "# You can also write temporary files to /kaggle/temp/, but they won't be saved outside of the current session\n",
    "import matplotlib.pyplot as plt"
   ]
  },
  {
   "cell_type": "code",
   "execution_count": 2,
   "metadata": {
    "execution": {
     "iopub.execute_input": "2020-11-16T21:08:45.753177Z",
     "iopub.status.busy": "2020-11-16T21:08:45.752122Z",
     "iopub.status.idle": "2020-11-16T21:08:45.766440Z",
     "shell.execute_reply": "2020-11-16T21:08:45.765576Z"
    },
    "papermill": {
     "duration": 0.037726,
     "end_time": "2020-11-16T21:08:45.766588",
     "exception": false,
     "start_time": "2020-11-16T21:08:45.728862",
     "status": "completed"
    },
    "tags": []
   },
   "outputs": [],
   "source": [
    "Data_Train = pd.read_csv('/kaggle/input/mkn-ml-2020-competition-1-true-part-2/comp2_train.csv')"
   ]
  },
  {
   "cell_type": "code",
   "execution_count": 3,
   "metadata": {
    "execution": {
     "iopub.execute_input": "2020-11-16T21:08:45.815332Z",
     "iopub.status.busy": "2020-11-16T21:08:45.814227Z",
     "iopub.status.idle": "2020-11-16T21:08:45.818107Z",
     "shell.execute_reply": "2020-11-16T21:08:45.817437Z"
    },
    "papermill": {
     "duration": 0.034667,
     "end_time": "2020-11-16T21:08:45.818242",
     "exception": false,
     "start_time": "2020-11-16T21:08:45.783575",
     "status": "completed"
    },
    "tags": []
   },
   "outputs": [],
   "source": [
    "#читаем трейн\n",
    "def read_train(path_to_csv):\n",
    "    Data = pd.read_csv(path_to_csv)\n",
    "    Data_X = Data.iloc[:, 1:]\n",
    "    Data_Y = Data.iloc[:, 0:1]\n",
    "    Data_X = replace_nans(Data_X)\n",
    "    \n",
    "    NData_X = Data_X.to_numpy()\n",
    "    NData_Y = Data_Y.to_numpy()\n",
    "    \n",
    "    return(NData_X, NData_Y)\n",
    "#читаем тест\n",
    "def read_test(path_to_csv):\n",
    "    Data = pd.read_csv(path_to_csv)\n",
    "    Data_X = Data.drop(['Id'], axis = 1)\n",
    "    Data_X = replace_nans(Data_X)\n",
    "    NData_X = Data_X.to_numpy()\n",
    "    return(NData_X)\n",
    "#осталось с логистической регрессии\n",
    "def normalize(X):\n",
    "    H = X * np.sign(X)\n",
    "    NormMax = np.amax(H, axis = 0)\n",
    "    X = X / NormMax\n",
    "    return (X, NormMax)\n",
    "#убираем наны\n",
    "def replace_nans(X):\n",
    "    if np.all(np.isnan(X)):\n",
    "      X[:] = 0\n",
    "      return X\n",
    "    else:\n",
    "      X[np.isnan(X)] = 0\n",
    "      return X"
   ]
  },
  {
   "cell_type": "code",
   "execution_count": 4,
   "metadata": {
    "execution": {
     "iopub.execute_input": "2020-11-16T21:08:45.884626Z",
     "iopub.status.busy": "2020-11-16T21:08:45.874283Z",
     "iopub.status.idle": "2020-11-16T21:08:45.888349Z",
     "shell.execute_reply": "2020-11-16T21:08:45.887615Z"
    },
    "papermill": {
     "duration": 0.05297,
     "end_time": "2020-11-16T21:08:45.888494",
     "exception": false,
     "start_time": "2020-11-16T21:08:45.835524",
     "status": "completed"
    },
    "tags": []
   },
   "outputs": [],
   "source": [
    "def logloss(y, pred):\n",
    "    ans = -y * np.log(pred) - (1 - y) * np.log(1 - pred)\n",
    "    return np.mean(ans)\n",
    "\n",
    "#рисуем ROC и считаем AUC\n",
    "def AUC_ROC(y, pred, draw = False):\n",
    "    values = np.unique(pred)\n",
    "    values = np.sort(-1 * values)\n",
    "    values = -1 * values\n",
    "    \n",
    "    TP = [0 for i in range(len(values))]\n",
    "    FP = [0 for i in range(len(values))]\n",
    "    FN = [0 for i in range(len(values))]\n",
    "    TN = [0 for i in range(len(values))]\n",
    "    \n",
    "    TPR = []\n",
    "    FPR = []\n",
    "    \n",
    "    TPR.append(0)\n",
    "    FPR.append(0)\n",
    "    \n",
    "    for thresh_i in range(len(values)):\n",
    "        TP[thresh_i] = np.sum(y * [pred >= values[thresh_i]])\n",
    "        FP[thresh_i] = np.sum((1 - y) * [pred >= values[thresh_i]])\n",
    "        FN[thresh_i] = np.sum(y * [pred < values[thresh_i]])\n",
    "        TN[thresh_i] = np.sum((1 - y) * [pred < values[thresh_i]])\n",
    "        \n",
    "        TPR.append(TP[thresh_i] / (TP[thresh_i] + FN[thresh_i]))\n",
    "        FPR.append(FP[thresh_i] / (FP[thresh_i] + TN[thresh_i]))\n",
    "        \n",
    "    if (draw == True):\n",
    "        plt.plot(FPR, TPR, color = 'green')\n",
    "        plt.plot([0, 1], [0, 1], color = 'red')\n",
    "        plt.show()\n",
    "    \n",
    "    AUC = 0\n",
    "    \n",
    "    TPR = np.array(TPR)\n",
    "    FPR = np.array(FPR)\n",
    "    \n",
    "    AUC = 0\n",
    "    for thresh_i in range(len(values)):\n",
    "        AUC += (TPR[thresh_i + 1] - TPR[thresh_i])*(FPR[thresh_i + 1] + FPR[thresh_i])/2\n",
    "    return 1 - AUC\n",
    "\n",
    "#кросс-валидация \n",
    "def cross_validation(X, Y, classifier, cls_args, tree_args, k = 5, amount_of_attepmts = 1):\n",
    "    res = []\n",
    "    \n",
    "    for i in range(amount_of_attepmts):\n",
    "        test_indices = np.random.randint(k, size = len(X))\n",
    "        for j in range(k):\n",
    "            X_train = X[test_indices != j]\n",
    "            X_test = X[test_indices == j]\n",
    "            Y_train = Y[test_indices != j]\n",
    "            Y_test = Y[test_indices == j]\n",
    "            \n",
    "            cls = classifier(**cls_args)\n",
    "            cls.build_tree(X_train, Y_train, **tree_args)\n",
    "            \n",
    "            ans = cls.predict(X_test)\n",
    "            \n",
    "            res.append(AUC_ROC(Y_test, ans))\n",
    "    print(f\"AUC = {np.mean(res):.4f}±{np.std(res):.4f}\")"
   ]
  },
  {
   "cell_type": "code",
   "execution_count": 5,
   "metadata": {
    "_cell_guid": "79c7e3d0-c299-4dcb-8224-4455121ee9b0",
    "_uuid": "d629ff2d2480ee46fbb7e2d37f6b5fab8052498a",
    "execution": {
     "iopub.execute_input": "2020-11-16T21:08:45.936236Z",
     "iopub.status.busy": "2020-11-16T21:08:45.934985Z",
     "iopub.status.idle": "2020-11-16T21:08:45.938244Z",
     "shell.execute_reply": "2020-11-16T21:08:45.937612Z"
    },
    "papermill": {
     "duration": 0.032403,
     "end_time": "2020-11-16T21:08:45.938374",
     "exception": false,
     "start_time": "2020-11-16T21:08:45.905971",
     "status": "completed"
    },
    "tags": []
   },
   "outputs": [],
   "source": [
    "#на самом деле просто энтропия, просто мне стало лень везде исправлять названия\n",
    "def cross_entropy(x):\n",
    "    p = np.unique(x, return_counts=True)[1] / len(x)\n",
    "    return -p@np.log2(p)\n",
    "#индекс Джини\n",
    "def gini(x):\n",
    "    p = np.unique(x, return_counts=True)[1] / len(x)\n",
    "    return p@(1 - p)\n",
    "#impurity function\n",
    "def impurity_score(U_left, U_right, L):\n",
    "    U = np.concatenate((U_left, U_right))\n",
    "    Phi = L(U)\n",
    "    Phi_left = L(U_left)\n",
    "    Phi_right = L(U_right)\n",
    "    \n",
    "    len_l, len_r = len(U_left), len(U_right)\n",
    "    len_whole = len_l + len_r\n",
    "    return len_whole * Phi - len_l * Phi_left - len_r * Phi_right"
   ]
  },
  {
   "cell_type": "code",
   "execution_count": 6,
   "metadata": {
    "execution": {
     "iopub.execute_input": "2020-11-16T21:08:45.983877Z",
     "iopub.status.busy": "2020-11-16T21:08:45.982762Z",
     "iopub.status.idle": "2020-11-16T21:08:45.986219Z",
     "shell.execute_reply": "2020-11-16T21:08:45.985520Z"
    },
    "papermill": {
     "duration": 0.030118,
     "end_time": "2020-11-16T21:08:45.986346",
     "exception": false,
     "start_time": "2020-11-16T21:08:45.956228",
     "status": "completed"
    },
    "tags": []
   },
   "outputs": [],
   "source": [
    "#один лист дерева\n",
    "class DTree_Leaf:\n",
    "    def __init__(self, estimates, size):\n",
    "        self.estimates = estimates\n",
    "        self.size = size\n",
    "        self.y = max(estimates, key=estimates.get)\n",
    "\n",
    "#вершина, не лист дерева        \n",
    "class DTree_DNode:\n",
    "    def __init__(self, feature, split_value, left, right):\n",
    "        self.feature = feature\n",
    "        self.split_value = split_value\n",
    "        self.left = left\n",
    "        self.right = right"
   ]
  },
  {
   "cell_type": "code",
   "execution_count": 7,
   "metadata": {
    "execution": {
     "iopub.execute_input": "2020-11-16T21:08:46.041156Z",
     "iopub.status.busy": "2020-11-16T21:08:46.035694Z",
     "iopub.status.idle": "2020-11-16T21:08:46.077193Z",
     "shell.execute_reply": "2020-11-16T21:08:46.076030Z"
    },
    "papermill": {
     "duration": 0.07316,
     "end_time": "2020-11-16T21:08:46.077352",
     "exception": false,
     "start_time": "2020-11-16T21:08:46.004192",
     "status": "completed"
    },
    "tags": []
   },
   "outputs": [],
   "source": [
    "#класс самого дерева (для произвольного количества классов)\n",
    "class DTree_classifier():\n",
    "    def __init__(self, imp_func=\"gini\", max_depth=None, min_size_leaf=1):\n",
    "        self.max_depth = max_depth\n",
    "        self.min_size_leaf = min_size_leaf\n",
    "        if imp_func == \"gini\":\n",
    "            self.imp_func = gini\n",
    "        elif imp_func == \"entr\":\n",
    "            self.imp_func = cross_entropy\n",
    "        else:\n",
    "            raise ValueError(f\"wrong impurity function {imp_func}\")\n",
    "    \n",
    "    def build_node(self, X, Y, indices, depth, strings_features_positions):\n",
    "        def build_leaf():\n",
    "            est = dict(zip(np.unique(Y), np.zeros(len(np.unique(Y)))))\n",
    "            cur_classes, cur_counters = np.unique(Y[indices], return_counts = True)\n",
    "            cur_est = dict(zip(cur_classes, cur_counters / len(indices)))\n",
    "            est.update(cur_est)\n",
    "            return DTree_Leaf(est, len(indices))\n",
    "        \n",
    "        if ((self.max_depth is not None and depth >= self.max_depth) or len(np.unique(Y[indices])) == 1 or len(indices) < 2 * self.min_size_leaf):\n",
    "            return build_leaf()\n",
    "        \n",
    "        best_score = None\n",
    "        best_U_1 = None\n",
    "        best_U_2 = None\n",
    "        best_feature = None\n",
    "        best_value = None\n",
    "        \n",
    "        for feature in range(X.shape[1]):\n",
    "            cur_sorted_indices = np.zeros(X.shape[0], dtype = int) - 1\n",
    "            cur_sorted_indices[strings_features_positions[indices, feature]] = indices\n",
    "            cur_sorted_indices = cur_sorted_indices[cur_sorted_indices >= 0]\n",
    "            \n",
    "            for v in range(len(cur_sorted_indices)):\n",
    "                cur_U_1 = cur_sorted_indices[:v + 1]\n",
    "                cur_U_2 = cur_sorted_indices[v + 1:]\n",
    "                if ((len(cur_U_1) >= self.min_size_leaf and len(cur_U_2) >= self.min_size_leaf) or (len(cur_U_1) == 0) or (len(cur_U_2) == 0)):\n",
    "                    temp_score = impurity_score(Y[cur_U_1], Y[cur_U_2], self.imp_func)\n",
    "                    if (best_score == None or temp_score > best_score):\n",
    "                        best_score = temp_score\n",
    "                        best_U_1 = cur_U_1\n",
    "                        best_U_2 = cur_U_2\n",
    "                        best_feature = feature\n",
    "                        best_value = X[cur_sorted_indices[v], feature]\n",
    "        if (len(best_U_1) == 0 or len(best_U_2) == 0):\n",
    "            return build_leaf()\n",
    "        left_node = self.build_node(X, Y, best_U_1, depth + 1, strings_features_positions)\n",
    "        right_node = self.build_node(X, Y, best_U_2, depth + 1, strings_features_positions)\n",
    "        cur_node = DTree_DNode(best_feature, best_value, left_node, right_node)\n",
    "        return cur_node\n",
    "    \n",
    "    def build_tree(self, X, Y):\n",
    "        strings_features_positions = np.zeros(np.shape(X), dtype = int)\n",
    "        for i in range(X.shape[1]):\n",
    "            strings_features_positions[np.argsort(X[:, i]), i] = np.arange(np.shape(X)[0])\n",
    "        start_indices = np.arange(np.shape(X)[0], dtype = int)\n",
    "        self.root = self.build_node(X, Y, start_indices, 0, strings_features_positions)\n",
    "    \n",
    "    def estimate_one_point(self, x_test_string, show_path = False):\n",
    "        node = self.root\n",
    "        path = []\n",
    "        \n",
    "        while not isinstance(node, DTree_Leaf):\n",
    "            if (x_test_string[node.feature] <= node.split_value):\n",
    "                node = node.left\n",
    "                if (show_path == True):\n",
    "                    path.append((node.feature, node.split_value, x_test_string[node.feature], 'left'))\n",
    "            else:\n",
    "                node = node.right\n",
    "                if (show_path == True):\n",
    "                    path.append((node.feature, node.split_value, x_test_string[node.feature], 'right'))\n",
    "        if (show_path == True):\n",
    "            return (node.estimates, path)\n",
    "        else:\n",
    "            return node.estimates\n",
    "    \n",
    "    def predict(self, X_test, show_path = False):\n",
    "        ans = []\n",
    "        paths = []\n",
    "        \n",
    "        for s in range(np.shape(X_test)[0]):\n",
    "            cur_est = self.estimate_one_point(X_test[s, :])\n",
    "            if (show_path == True):\n",
    "                paths.append(self.estimate_one_point(X_test[s, :], True)[1])\n",
    "            if len(cur_est.keys()) == 2:\n",
    "                ans.append(cur_est[1])\n",
    "            else:\n",
    "                ans.append(max(cur_est.keys(), key = lambda k: cur_est[k]))\n",
    "        ans = np.array(ans).reshape(-1, 1)\n",
    "        \n",
    "        if (show_path == True):\n",
    "            return (ans, paths)\n",
    "        else:\n",
    "            return ans"
   ]
  },
  {
   "cell_type": "code",
   "execution_count": 8,
   "metadata": {
    "execution": {
     "iopub.execute_input": "2020-11-16T21:08:46.121091Z",
     "iopub.status.busy": "2020-11-16T21:08:46.120047Z",
     "iopub.status.idle": "2020-11-16T21:08:46.153364Z",
     "shell.execute_reply": "2020-11-16T21:08:46.152592Z"
    },
    "papermill": {
     "duration": 0.058108,
     "end_time": "2020-11-16T21:08:46.153500",
     "exception": false,
     "start_time": "2020-11-16T21:08:46.095392",
     "status": "completed"
    },
    "tags": []
   },
   "outputs": [],
   "source": [
    "(X_Train, Y_Train) = read_train('/kaggle/input/mkn-ml-2020-competition-1-true-part-2/comp2_train.csv')\n",
    "X_Test = read_test('/kaggle/input/mkn-ml-2020-competition-1-true-part-2/comp2_test.csv')"
   ]
  },
  {
   "cell_type": "code",
   "execution_count": 9,
   "metadata": {
    "execution": {
     "iopub.execute_input": "2020-11-16T21:08:46.197462Z",
     "iopub.status.busy": "2020-11-16T21:08:46.196226Z",
     "iopub.status.idle": "2020-11-16T21:09:13.864670Z",
     "shell.execute_reply": "2020-11-16T21:09:13.865454Z"
    },
    "papermill": {
     "duration": 27.693819,
     "end_time": "2020-11-16T21:09:13.865674",
     "exception": false,
     "start_time": "2020-11-16T21:08:46.171855",
     "status": "completed"
    },
    "tags": []
   },
   "outputs": [
    {
     "name": "stdout",
     "output_type": "stream",
     "text": [
      "AUC = 0.9238±0.0100\n"
     ]
    }
   ],
   "source": [
    "cross_validation(X_Train, Y_Train, DTree_classifier, {\"imp_func\": \"entr\", \"max_depth\": 5, \"min_size_leaf\": 20}, {})"
   ]
  },
  {
   "cell_type": "code",
   "execution_count": 10,
   "metadata": {
    "execution": {
     "iopub.execute_input": "2020-11-16T21:09:13.911502Z",
     "iopub.status.busy": "2020-11-16T21:09:13.910284Z",
     "iopub.status.idle": "2020-11-16T21:09:21.103294Z",
     "shell.execute_reply": "2020-11-16T21:09:21.102444Z"
    },
    "papermill": {
     "duration": 7.21831,
     "end_time": "2020-11-16T21:09:21.103427",
     "exception": false,
     "start_time": "2020-11-16T21:09:13.885117",
     "status": "completed"
    },
    "tags": []
   },
   "outputs": [],
   "source": [
    "#лучшая попытка\n",
    "Third_attempt = DTree_classifier('entr', 5, 20)\n",
    "Third_attempt.build_tree(X_Train, Y_Train)\n",
    "\n",
    "X_Test = read_test('/kaggle/input/mkn-ml-2020-competition-1-true-part-2/comp2_test.csv')\n",
    "Test_Data = pd.read_csv('/kaggle/input/mkn-ml-2020-competition-1-true-part-2/comp2_test.csv')"
   ]
  },
  {
   "cell_type": "code",
   "execution_count": 11,
   "metadata": {
    "execution": {
     "iopub.execute_input": "2020-11-16T21:09:21.150167Z",
     "iopub.status.busy": "2020-11-16T21:09:21.149361Z",
     "iopub.status.idle": "2020-11-16T21:09:21.160064Z",
     "shell.execute_reply": "2020-11-16T21:09:21.159315Z"
    },
    "papermill": {
     "duration": 0.037989,
     "end_time": "2020-11-16T21:09:21.160198",
     "exception": false,
     "start_time": "2020-11-16T21:09:21.122209",
     "status": "completed"
    },
    "tags": []
   },
   "outputs": [
    {
     "data": {
      "text/plain": [
       "(0.5712518710895785, 0.555)"
      ]
     },
     "execution_count": 11,
     "metadata": {},
     "output_type": "execute_result"
    }
   ],
   "source": [
    "Ans = Third_attempt.predict(X_Test)\n",
    "Ans.mean(), Y_Train.mean()"
   ]
  },
  {
   "cell_type": "code",
   "execution_count": 12,
   "metadata": {
    "execution": {
     "iopub.execute_input": "2020-11-16T21:09:21.210464Z",
     "iopub.status.busy": "2020-11-16T21:09:21.207552Z",
     "iopub.status.idle": "2020-11-16T21:09:21.218924Z",
     "shell.execute_reply": "2020-11-16T21:09:21.218197Z"
    },
    "papermill": {
     "duration": 0.039523,
     "end_time": "2020-11-16T21:09:21.219055",
     "exception": false,
     "start_time": "2020-11-16T21:09:21.179532",
     "status": "completed"
    },
    "tags": []
   },
   "outputs": [
    {
     "data": {
      "text/plain": [
       "0.9678692175321388"
      ]
     },
     "execution_count": 12,
     "metadata": {},
     "output_type": "execute_result"
    }
   ],
   "source": [
    "Ans_Train = Third_attempt.predict(X_Train)\n",
    "AUC_ROC(Y_Train, Ans_Train)"
   ]
  },
  {
   "cell_type": "code",
   "execution_count": 13,
   "metadata": {
    "execution": {
     "iopub.execute_input": "2020-11-16T21:09:21.264793Z",
     "iopub.status.busy": "2020-11-16T21:09:21.264026Z",
     "iopub.status.idle": "2020-11-16T21:09:21.537061Z",
     "shell.execute_reply": "2020-11-16T21:09:21.536291Z"
    },
    "papermill": {
     "duration": 0.298022,
     "end_time": "2020-11-16T21:09:21.537189",
     "exception": false,
     "start_time": "2020-11-16T21:09:21.239167",
     "status": "completed"
    },
    "tags": []
   },
   "outputs": [
    {
     "data": {
      "image/png": "[encoded data removed]",
      "text/plain": [
       "<Figure size 432x288 with 1 Axes>"
      ]
     },
     "metadata": {
      "needs_background": "light"
     },
     "output_type": "display_data"
    },
    {
     "data": {
      "text/plain": [
       "0.9678692175321388"
      ]
     },
     "execution_count": 13,
     "metadata": {},
     "output_type": "execute_result"
    }
   ],
   "source": [
    "AUC_ROC(Y_Train, Ans_Train, True)"
   ]
  },
  {
   "cell_type": "code",
   "execution_count": 14,
   "metadata": {
    "execution": {
     "iopub.execute_input": "2020-11-16T21:09:21.592647Z",
     "iopub.status.busy": "2020-11-16T21:09:21.588967Z",
     "iopub.status.idle": "2020-11-16T21:09:21.891074Z",
     "shell.execute_reply": "2020-11-16T21:09:21.890349Z"
    },
    "papermill": {
     "duration": 0.331974,
     "end_time": "2020-11-16T21:09:21.891205",
     "exception": false,
     "start_time": "2020-11-16T21:09:21.559231",
     "status": "completed"
    },
    "tags": []
   },
   "outputs": [],
   "source": [
    "#сабмит лучшей попытки\n",
    "submission = pd.DataFrame()\n",
    "submission['Id'] = Test_Data.index\n",
    "submission['target'] = Ans\n",
    "submission = submission[['target', 'Id']]\n",
    "submission.to_csv('submission_fourth_test.csv', index=False)"
   ]
  },
  {
   "cell_type": "code",
   "execution_count": 15,
   "metadata": {
    "execution": {
     "iopub.execute_input": "2020-11-16T21:09:21.942122Z",
     "iopub.status.busy": "2020-11-16T21:09:21.941306Z",
     "iopub.status.idle": "2020-11-16T21:10:15.107036Z",
     "shell.execute_reply": "2020-11-16T21:10:15.107865Z"
    },
    "papermill": {
     "duration": 53.194905,
     "end_time": "2020-11-16T21:10:15.108054",
     "exception": false,
     "start_time": "2020-11-16T21:09:21.913149",
     "status": "completed"
    },
    "tags": []
   },
   "outputs": [
    {
     "name": "stdout",
     "output_type": "stream",
     "text": [
      "AUC = 0.9206±0.0208\n"
     ]
    }
   ],
   "source": [
    "#еще я последней попыткой попробовал квадраты фич поставить, но только потом понял, что это почти то же самое\n",
    "X_Train_sq = np.hstack((X_Train, X_Train**2))\n",
    "cross_validation(X_Train_sq, Y_Train, DTree_classifier, {\"imp_func\": \"entr\", \"max_depth\": 5, \"min_size_leaf\": 20}, {}, 5, 1)\n"
   ]
  },
  {
   "cell_type": "code",
   "execution_count": 16,
   "metadata": {
    "execution": {
     "iopub.execute_input": "2020-11-16T21:10:15.160656Z",
     "iopub.status.busy": "2020-11-16T21:10:15.159903Z",
     "iopub.status.idle": "2020-11-16T21:10:30.959685Z",
     "shell.execute_reply": "2020-11-16T21:10:30.958865Z"
    },
    "papermill": {
     "duration": 15.82892,
     "end_time": "2020-11-16T21:10:30.959839",
     "exception": false,
     "start_time": "2020-11-16T21:10:15.130919",
     "status": "completed"
    },
    "tags": []
   },
   "outputs": [],
   "source": [
    "#последняя попытка с квадратами фич\n",
    "Forth_attempt = DTree_classifier('entr', 6, 15)\n",
    "Forth_attempt.build_tree(X_Train_sq, Y_Train)\n",
    "\n",
    "X_Test = read_test('/kaggle/input/mkn-ml-2020-competition-1-true-part-2/comp2_test.csv')\n",
    "Test_Data = pd.read_csv('/kaggle/input/mkn-ml-2020-competition-1-true-part-2/comp2_test.csv')\n",
    "X_Test_sq = np.hstack((X_Test, X_Test**2))\n"
   ]
  },
  {
   "cell_type": "code",
   "execution_count": 17,
   "metadata": {
    "execution": {
     "iopub.execute_input": "2020-11-16T21:10:31.019488Z",
     "iopub.status.busy": "2020-11-16T21:10:31.018317Z",
     "iopub.status.idle": "2020-11-16T21:10:31.023426Z",
     "shell.execute_reply": "2020-11-16T21:10:31.022753Z"
    },
    "papermill": {
     "duration": 0.041279,
     "end_time": "2020-11-16T21:10:31.023562",
     "exception": false,
     "start_time": "2020-11-16T21:10:30.982283",
     "status": "completed"
    },
    "tags": []
   },
   "outputs": [
    {
     "data": {
      "text/plain": [
       "(0.5655255295434135, 0.555)"
      ]
     },
     "execution_count": 17,
     "metadata": {},
     "output_type": "execute_result"
    }
   ],
   "source": [
    "Ans = Forth_attempt.predict(X_Test_sq)\n",
    "Ans.mean(), Y_Train.mean()"
   ]
  },
  {
   "cell_type": "code",
   "execution_count": 18,
   "metadata": {
    "execution": {
     "iopub.execute_input": "2020-11-16T21:10:31.082731Z",
     "iopub.status.busy": "2020-11-16T21:10:31.081950Z",
     "iopub.status.idle": "2020-11-16T21:10:31.091552Z",
     "shell.execute_reply": "2020-11-16T21:10:31.090926Z"
    },
    "papermill": {
     "duration": 0.044994,
     "end_time": "2020-11-16T21:10:31.091690",
     "exception": false,
     "start_time": "2020-11-16T21:10:31.046696",
     "status": "completed"
    },
    "tags": []
   },
   "outputs": [
    {
     "data": {
      "text/plain": [
       "0.9753173398117219"
      ]
     },
     "execution_count": 18,
     "metadata": {},
     "output_type": "execute_result"
    }
   ],
   "source": [
    "Ans_Train = Forth_attempt.predict(X_Train_sq)\n",
    "AUC_ROC(Y_Train, Ans_Train)"
   ]
  },
  {
   "cell_type": "code",
   "execution_count": 19,
   "metadata": {
    "execution": {
     "iopub.execute_input": "2020-11-16T21:10:31.152091Z",
     "iopub.status.busy": "2020-11-16T21:10:31.151229Z",
     "iopub.status.idle": "2020-11-16T21:10:31.159501Z",
     "shell.execute_reply": "2020-11-16T21:10:31.158870Z"
    },
    "papermill": {
     "duration": 0.044466,
     "end_time": "2020-11-16T21:10:31.159631",
     "exception": false,
     "start_time": "2020-11-16T21:10:31.115165",
     "status": "completed"
    },
    "tags": []
   },
   "outputs": [],
   "source": [
    "#сабмит последней попытки\n",
    "submission = pd.DataFrame()\n",
    "submission['Id'] = Test_Data.index\n",
    "submission['target'] = Ans\n",
    "submission = submission[['target', 'Id']]\n",
    "submission.to_csv('submission_fifth_test.csv', index=False)"
   ]
  }
 ],
 "metadata": {
  "kernelspec": {
   "display_name": "Python 3 (ipykernel)",
   "language": "python",
   "name": "python3"
  },
  "language_info": {
   "codemirror_mode": {
    "name": "ipython",
    "version": 3
   },
   "file_extension": ".py",
   "mimetype": "text/x-python",
   "name": "python",
   "nbconvert_exporter": "python",
   "pygments_lexer": "ipython3",
   "version": "3.8.10"
  },
  "papermill": {
   "duration": 111.16593,
   "end_time": "2020-11-16T21:10:31.291911",
   "environment_variables": {},
   "exception": null,
   "input_path": "__notebook__.ipynb",
   "output_path": "__notebook__.ipynb",
   "parameters": {},
   "start_time": "2020-11-16T21:08:40.125981",
   "version": "2.1.0"
  }
 },
 "nbformat": 4,
 "nbformat_minor": 4
}
